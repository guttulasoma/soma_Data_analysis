{
  "nbformat": 4,
  "nbformat_minor": 0,
  "metadata": {
    "colab": {
      "provenance": []
    },
    "kernelspec": {
      "name": "python3",
      "display_name": "Python 3"
    },
    "language_info": {
      "name": "python"
    }
  },
  "cells": [
    {
      "cell_type": "code",
      "execution_count": null,
      "metadata": {
        "id": "4Pf0XFTerIvF"
      },
      "outputs": [],
      "source": [
        "#importing\n",
        "import numpy as np"
      ]
    },
    {
      "cell_type": "code",
      "source": [
        "import numpy as np\n",
        "a=np.ones((8,4))\n",
        "print(a)"
      ],
      "metadata": {
        "colab": {
          "base_uri": "https://localhost:8080/"
        },
        "id": "xytL2-UUreYE",
        "outputId": "45b66165-56c3-454b-c546-f70fcd07536b"
      },
      "execution_count": null,
      "outputs": [
        {
          "output_type": "stream",
          "name": "stdout",
          "text": [
            "[[1. 1. 1. 1.]\n",
            " [1. 1. 1. 1.]\n",
            " [1. 1. 1. 1.]\n",
            " [1. 1. 1. 1.]\n",
            " [1. 1. 1. 1.]\n",
            " [1. 1. 1. 1.]\n",
            " [1. 1. 1. 1.]\n",
            " [1. 1. 1. 1.]]\n"
          ]
        }
      ]
    },
    {
      "cell_type": "code",
      "source": [
        "#random module is sub-package of numpy\n",
        "A=np.random.rand(1)\n",
        "print(A)"
      ],
      "metadata": {
        "colab": {
          "base_uri": "https://localhost:8080/"
        },
        "id": "sDCQ6-07tKa_",
        "outputId": "246520ca-4fde-4c4f-8e4a-9cdfbcbe1c36"
      },
      "execution_count": null,
      "outputs": [
        {
          "output_type": "stream",
          "name": "stdout",
          "text": [
            "[0.97524441]\n"
          ]
        }
      ]
    },
    {
      "cell_type": "code",
      "source": [
        "A=np.random.rand(8,4)   #rand-range is between 0 and 1\n",
        "print(A)"
      ],
      "metadata": {
        "colab": {
          "base_uri": "https://localhost:8080/"
        },
        "id": "2ry8N39ftp4g",
        "outputId": "5e8ce0b9-c490-40e8-cfff-12b2d7862c89"
      },
      "execution_count": null,
      "outputs": [
        {
          "output_type": "stream",
          "name": "stdout",
          "text": [
            "[[0.88783091 0.5600817  0.33286812 0.10907783]\n",
            " [0.49621634 0.58265755 0.47447122 0.96820757]\n",
            " [0.14688957 0.69316799 0.23161533 0.906008  ]\n",
            " [0.23908054 0.91096409 0.29980059 0.24987192]\n",
            " [0.20292444 0.50864224 0.7236441  0.40695491]\n",
            " [0.68829769 0.04584759 0.13931896 0.42355093]\n",
            " [0.92268485 0.25631326 0.32791159 0.34616961]\n",
            " [0.01469979 0.17669397 0.69562876 0.06784533]]\n"
          ]
        }
      ]
    },
    {
      "cell_type": "code",
      "source": [
        "A=np.floor(10*np.random.rand(8,4))   #rand-range is between 0 and 1\n",
        "print(A)"
      ],
      "metadata": {
        "colab": {
          "base_uri": "https://localhost:8080/"
        },
        "id": "QkzVVP5-vTFn",
        "outputId": "20192d4a-3568-4a6a-a025-1fa25d90b4de"
      },
      "execution_count": null,
      "outputs": [
        {
          "output_type": "stream",
          "name": "stdout",
          "text": [
            "[[0. 8. 8. 3.]\n",
            " [6. 4. 9. 6.]\n",
            " [2. 5. 1. 4.]\n",
            " [0. 4. 7. 5.]\n",
            " [0. 5. 0. 1.]\n",
            " [1. 3. 0. 6.]\n",
            " [2. 4. 9. 0.]\n",
            " [6. 1. 9. 0.]]\n"
          ]
        }
      ]
    },
    {
      "cell_type": "code",
      "source": [
        "A=np.arange(1,33).reshape(8,4)\n",
        "print(A)"
      ],
      "metadata": {
        "colab": {
          "base_uri": "https://localhost:8080/"
        },
        "id": "bR7F8pApvnwt",
        "outputId": "a862a769-7264-4a37-c188-77798718e900"
      },
      "execution_count": null,
      "outputs": [
        {
          "output_type": "stream",
          "name": "stdout",
          "text": [
            "[[ 1  2  3  4]\n",
            " [ 5  6  7  8]\n",
            " [ 9 10 11 12]\n",
            " [13 14 15 16]\n",
            " [17 18 19 20]\n",
            " [21 22 23 24]\n",
            " [25 26 27 28]\n",
            " [29 30 31 32]]\n"
          ]
        }
      ]
    },
    {
      "cell_type": "code",
      "source": [
        "#Spliting of an array\n",
        "print(np.vsplit(A,4))"
      ],
      "metadata": {
        "colab": {
          "base_uri": "https://localhost:8080/"
        },
        "id": "78XBgXiOvntc",
        "outputId": "3e184e61-0700-4f13-d9b8-e3afee081579"
      },
      "execution_count": null,
      "outputs": [
        {
          "output_type": "stream",
          "name": "stdout",
          "text": [
            "[array([[1, 2, 3, 4],\n",
            "       [5, 6, 7, 8]]), array([[ 9, 10, 11, 12],\n",
            "       [13, 14, 15, 16]]), array([[17, 18, 19, 20],\n",
            "       [21, 22, 23, 24]]), array([[25, 26, 27, 28],\n",
            "       [29, 30, 31, 32]])]\n"
          ]
        }
      ]
    },
    {
      "cell_type": "code",
      "source": [
        "print(np.vsplit(A,4))"
      ],
      "metadata": {
        "colab": {
          "base_uri": "https://localhost:8080/"
        },
        "id": "BB6ROL-vvnql",
        "outputId": "cd1ccaa0-d330-4083-dcbc-c9f43a302b01"
      },
      "execution_count": null,
      "outputs": [
        {
          "output_type": "stream",
          "name": "stdout",
          "text": [
            "[array([[1, 2, 3, 4],\n",
            "       [5, 6, 7, 8]]), array([[ 9, 10, 11, 12],\n",
            "       [13, 14, 15, 16]]), array([[17, 18, 19, 20],\n",
            "       [21, 22, 23, 24]]), array([[25, 26, 27, 28],\n",
            "       [29, 30, 31, 32]])]\n"
          ]
        }
      ]
    },
    {
      "cell_type": "code",
      "source": [
        "print(np.vsplit(A,(3,5)))     #split it after 3rd row and 5th row"
      ],
      "metadata": {
        "colab": {
          "base_uri": "https://localhost:8080/"
        },
        "id": "8umWpeXUvnog",
        "outputId": "648dd43f-23c8-4ecd-b348-327789c372f2"
      },
      "execution_count": null,
      "outputs": [
        {
          "output_type": "stream",
          "name": "stdout",
          "text": [
            "[array([[ 1,  2,  3,  4],\n",
            "       [ 5,  6,  7,  8],\n",
            "       [ 9, 10, 11, 12]]), array([[13, 14, 15, 16],\n",
            "       [17, 18, 19, 20]]), array([[21, 22, 23, 24],\n",
            "       [25, 26, 27, 28],\n",
            "       [29, 30, 31, 32]])]\n"
          ]
        }
      ]
    },
    {
      "cell_type": "code",
      "source": [
        "print(np.vsplit(A,(3,6)))     #split it after 3rd row and 6th row"
      ],
      "metadata": {
        "colab": {
          "base_uri": "https://localhost:8080/"
        },
        "id": "1EQCxQNHvnmU",
        "outputId": "80c41939-719d-4b71-9083-62c818e94dca"
      },
      "execution_count": null,
      "outputs": [
        {
          "output_type": "stream",
          "name": "stdout",
          "text": [
            "[array([[ 1,  2,  3,  4],\n",
            "       [ 5,  6,  7,  8],\n",
            "       [ 9, 10, 11, 12]]), array([[13, 14, 15, 16],\n",
            "       [17, 18, 19, 20],\n",
            "       [21, 22, 23, 24]]), array([[25, 26, 27, 28],\n",
            "       [29, 30, 31, 32]])]\n"
          ]
        }
      ]
    },
    {
      "cell_type": "code",
      "source": [
        "A=np.arange(1,33).reshape(4,8)\n",
        "print(A)"
      ],
      "metadata": {
        "colab": {
          "base_uri": "https://localhost:8080/"
        },
        "id": "VgYyaykIzqOx",
        "outputId": "a1d38065-d4dd-4e54-d668-f4951ffcb027"
      },
      "execution_count": null,
      "outputs": [
        {
          "output_type": "stream",
          "name": "stdout",
          "text": [
            "[[ 1  2  3  4  5  6  7  8]\n",
            " [ 9 10 11 12 13 14 15 16]\n",
            " [17 18 19 20 21 22 23 24]\n",
            " [25 26 27 28 29 30 31 32]]\n"
          ]
        }
      ]
    },
    {
      "cell_type": "code",
      "source": [
        "print(np.hsplit(A,4))"
      ],
      "metadata": {
        "colab": {
          "base_uri": "https://localhost:8080/"
        },
        "id": "7mnBAVkpvnkP",
        "outputId": "66346495-eac1-48ea-8862-d78aaa3e24cc"
      },
      "execution_count": null,
      "outputs": [
        {
          "output_type": "stream",
          "name": "stdout",
          "text": [
            "[array([[ 1,  2],\n",
            "       [ 9, 10],\n",
            "       [17, 18],\n",
            "       [25, 26]]), array([[ 3,  4],\n",
            "       [11, 12],\n",
            "       [19, 20],\n",
            "       [27, 28]]), array([[ 5,  6],\n",
            "       [13, 14],\n",
            "       [21, 22],\n",
            "       [29, 30]]), array([[ 7,  8],\n",
            "       [15, 16],\n",
            "       [23, 24],\n",
            "       [31, 32]])]\n"
          ]
        }
      ]
    },
    {
      "cell_type": "code",
      "source": [
        "print(np.hsplit(A,(3,4)))"
      ],
      "metadata": {
        "colab": {
          "base_uri": "https://localhost:8080/"
        },
        "id": "Gd3QZQR0vniJ",
        "outputId": "b39c4f74-4909-48b6-f72b-731fa15d2444"
      },
      "execution_count": null,
      "outputs": [
        {
          "output_type": "stream",
          "name": "stdout",
          "text": [
            "[array([[ 1,  2,  3],\n",
            "       [ 9, 10, 11],\n",
            "       [17, 18, 19],\n",
            "       [25, 26, 27]]), array([[ 4],\n",
            "       [12],\n",
            "       [20],\n",
            "       [28]]), array([[ 5,  6,  7,  8],\n",
            "       [13, 14, 15, 16],\n",
            "       [21, 22, 23, 24],\n",
            "       [29, 30, 31, 32]])]\n"
          ]
        }
      ]
    },
    {
      "cell_type": "markdown",
      "source": [
        "Trigonometry\n"
      ],
      "metadata": {
        "id": "jmKevYX54GQi"
      }
    },
    {
      "cell_type": "code",
      "source": [
        "np.pi"
      ],
      "metadata": {
        "id": "IuJCxt3kvnfn",
        "colab": {
          "base_uri": "https://localhost:8080/"
        },
        "outputId": "fd9bb20d-cc95-48d8-c662-4c6641330bfd"
      },
      "execution_count": null,
      "outputs": [
        {
          "output_type": "execute_result",
          "data": {
            "text/plain": [
              "3.141592653589793"
            ]
          },
          "metadata": {},
          "execution_count": 29
        }
      ]
    },
    {
      "cell_type": "code",
      "source": [
        "A=[np.pi/4,np.pi/3,np.pi/2,np.pi]\n",
        "print(A)"
      ],
      "metadata": {
        "id": "Owg1QLSivndQ",
        "colab": {
          "base_uri": "https://localhost:8080/"
        },
        "outputId": "39fe7a87-bc22-4dfb-866e-d8151f410a39"
      },
      "execution_count": null,
      "outputs": [
        {
          "output_type": "stream",
          "name": "stdout",
          "text": [
            "[0.7853981633974483, 1.0471975511965976, 1.5707963267948966, 3.141592653589793]\n"
          ]
        }
      ]
    },
    {
      "cell_type": "code",
      "source": [
        "np.rad2deg(A)     #convert radians to degrees"
      ],
      "metadata": {
        "id": "eh6Erg2qvnbK",
        "colab": {
          "base_uri": "https://localhost:8080/"
        },
        "outputId": "0d56afce-3fe3-48f9-b54f-cc1735693f15"
      },
      "execution_count": null,
      "outputs": [
        {
          "output_type": "execute_result",
          "data": {
            "text/plain": [
              "array([ 45.,  60.,  90., 180.])"
            ]
          },
          "metadata": {},
          "execution_count": 31
        }
      ]
    },
    {
      "cell_type": "code",
      "source": [
        "A=[45,60,90,180]\n",
        "np.deg2rad(A)"
      ],
      "metadata": {
        "id": "3eKaOrlWvnY2",
        "colab": {
          "base_uri": "https://localhost:8080/"
        },
        "outputId": "71b3eb34-b908-4bce-c63a-2aa151e0a4c9"
      },
      "execution_count": null,
      "outputs": [
        {
          "output_type": "execute_result",
          "data": {
            "text/plain": [
              "array([0.78539816, 1.04719755, 1.57079633, 3.14159265])"
            ]
          },
          "metadata": {},
          "execution_count": 32
        }
      ]
    },
    {
      "cell_type": "code",
      "source": [
        "A=np.sin(1)\n",
        "print(A)\n",
        "B=np.cos(1)\n",
        "print(B)\n",
        "C=np.tan(1)\n",
        "print(C)"
      ],
      "metadata": {
        "id": "lb46XLvhvnWr",
        "colab": {
          "base_uri": "https://localhost:8080/"
        },
        "outputId": "fd748cd9-46fb-409d-ddc3-2da314b8f194"
      },
      "execution_count": null,
      "outputs": [
        {
          "output_type": "stream",
          "name": "stdout",
          "text": [
            "0.8414709848078965\n",
            "0.5403023058681398\n",
            "1.5574077246549023\n"
          ]
        }
      ]
    },
    {
      "cell_type": "markdown",
      "source": [
        "Statistics"
      ],
      "metadata": {
        "id": "BFw38XNB6dSd"
      }
    },
    {
      "cell_type": "code",
      "source": [
        "st=np.array([23,45,67,89,21,34])"
      ],
      "metadata": {
        "id": "sr1RTUNkvnUj"
      },
      "execution_count": null,
      "outputs": []
    },
    {
      "cell_type": "code",
      "source": [
        "np.mean(st)"
      ],
      "metadata": {
        "id": "Gt4psXWvvnSZ",
        "colab": {
          "base_uri": "https://localhost:8080/"
        },
        "outputId": "1ea70082-15e7-460f-c08f-087c6aeff6c5"
      },
      "execution_count": null,
      "outputs": [
        {
          "output_type": "execute_result",
          "data": {
            "text/plain": [
              "46.5"
            ]
          },
          "metadata": {},
          "execution_count": 35
        }
      ]
    },
    {
      "cell_type": "code",
      "source": [
        "np.median(st)"
      ],
      "metadata": {
        "colab": {
          "base_uri": "https://localhost:8080/"
        },
        "id": "4e5ZvILe7DnH",
        "outputId": "637a4e16-866f-4d67-a091-eaca991709a8"
      },
      "execution_count": null,
      "outputs": [
        {
          "output_type": "execute_result",
          "data": {
            "text/plain": [
              "39.5"
            ]
          },
          "metadata": {},
          "execution_count": 36
        }
      ]
    },
    {
      "cell_type": "code",
      "source": [
        "np.std(st)"
      ],
      "metadata": {
        "colab": {
          "base_uri": "https://localhost:8080/"
        },
        "id": "jRB_OVC06y9x",
        "outputId": "7afc2472-fe0e-4dce-b771-66a2a18fd7a3"
      },
      "execution_count": null,
      "outputs": [
        {
          "output_type": "execute_result",
          "data": {
            "text/plain": [
              "24.452334585202017"
            ]
          },
          "metadata": {},
          "execution_count": 37
        }
      ]
    },
    {
      "cell_type": "code",
      "source": [
        "np.var(st)"
      ],
      "metadata": {
        "colab": {
          "base_uri": "https://localhost:8080/"
        },
        "id": "j0RYioF76y6_",
        "outputId": "6aee3581-9c2f-4a0b-e444-3535a444a787"
      },
      "execution_count": null,
      "outputs": [
        {
          "output_type": "execute_result",
          "data": {
            "text/plain": [
              "597.9166666666666"
            ]
          },
          "metadata": {},
          "execution_count": 38
        }
      ]
    },
    {
      "cell_type": "code",
      "source": [
        "C=np.arange(1,5).reshape(2,2)\n",
        "print(C)"
      ],
      "metadata": {
        "colab": {
          "base_uri": "https://localhost:8080/"
        },
        "id": "Cw5QimHS6y4M",
        "outputId": "8df91b94-bfe1-4ae9-fabc-0a7d18d1a27a"
      },
      "execution_count": null,
      "outputs": [
        {
          "output_type": "stream",
          "name": "stdout",
          "text": [
            "[[1 2]\n",
            " [3 4]]\n"
          ]
        }
      ]
    },
    {
      "cell_type": "code",
      "source": [
        "np.linalg.inv(C)    #Sub-package of numpy"
      ],
      "metadata": {
        "colab": {
          "base_uri": "https://localhost:8080/"
        },
        "id": "ihCpQGY56y1H",
        "outputId": "c98f4d8d-91b0-42db-b255-fba88b427867"
      },
      "execution_count": null,
      "outputs": [
        {
          "output_type": "execute_result",
          "data": {
            "text/plain": [
              "array([[-2. ,  1. ],\n",
              "       [ 1.5, -0.5]])"
            ]
          },
          "metadata": {},
          "execution_count": 40
        }
      ]
    },
    {
      "cell_type": "code",
      "source": [
        "C=np.arange(1,25).reshape(6,4)\n",
        "print(C)\n",
        "print(np.argmax(C))"
      ],
      "metadata": {
        "colab": {
          "base_uri": "https://localhost:8080/"
        },
        "id": "hvYnKDua6yxc",
        "outputId": "6b8dc8b2-6d18-4426-8bc9-491649897fbd"
      },
      "execution_count": null,
      "outputs": [
        {
          "output_type": "stream",
          "name": "stdout",
          "text": [
            "[[ 1  2  3  4]\n",
            " [ 5  6  7  8]\n",
            " [ 9 10 11 12]\n",
            " [13 14 15 16]\n",
            " [17 18 19 20]\n",
            " [21 22 23 24]]\n",
            "23\n"
          ]
        }
      ]
    },
    {
      "cell_type": "code",
      "source": [
        "C=np.floor(10*np.random.rand(24).reshape(6,4))\n",
        "print(C)\n",
        "print(np.argmax(C))"
      ],
      "metadata": {
        "colab": {
          "base_uri": "https://localhost:8080/"
        },
        "id": "NXJfTQyY6yul",
        "outputId": "2d41185a-ee45-41f4-9baa-abbc03d8118a"
      },
      "execution_count": null,
      "outputs": [
        {
          "output_type": "stream",
          "name": "stdout",
          "text": [
            "[[6. 2. 0. 4.]\n",
            " [3. 2. 3. 0.]\n",
            " [8. 3. 5. 6.]\n",
            " [6. 0. 9. 4.]\n",
            " [3. 0. 6. 6.]\n",
            " [0. 2. 5. 8.]]\n",
            "14\n"
          ]
        }
      ]
    },
    {
      "cell_type": "code",
      "source": [
        "C=10*np.random.rand(24).reshape(6,4)\n",
        "print(C)\n",
        "print(np.argmax(C))"
      ],
      "metadata": {
        "colab": {
          "base_uri": "https://localhost:8080/"
        },
        "id": "5TSatg5e6ysG",
        "outputId": "17626cbc-2cd7-4145-aefa-11c6d6f2dc8d"
      },
      "execution_count": null,
      "outputs": [
        {
          "output_type": "stream",
          "name": "stdout",
          "text": [
            "[[0.87756112 5.78632493 7.13047598 0.94227977]\n",
            " [4.14482788 0.07072928 7.45716285 5.24359298]\n",
            " [4.41704892 6.30966817 4.06225379 2.18657049]\n",
            " [0.14085496 3.68967022 0.07430486 1.43735412]\n",
            " [7.61256262 4.50752723 7.78568884 8.22785794]\n",
            " [7.61875766 8.75561131 1.30151094 8.08011407]]\n",
            "21\n"
          ]
        }
      ]
    },
    {
      "cell_type": "code",
      "source": [
        "print(np.argmax(C,axis=1))  #rows"
      ],
      "metadata": {
        "colab": {
          "base_uri": "https://localhost:8080/"
        },
        "id": "AGlO3olS6ypI",
        "outputId": "a43fc2aa-78d5-4df9-e967-8e38d002b793"
      },
      "execution_count": null,
      "outputs": [
        {
          "output_type": "stream",
          "name": "stdout",
          "text": [
            "[0 0 0 2 2 3]\n"
          ]
        }
      ]
    },
    {
      "cell_type": "code",
      "source": [
        "print(np.argmax(C,axis=0))   #columns"
      ],
      "metadata": {
        "colab": {
          "base_uri": "https://localhost:8080/"
        },
        "id": "pjUq7X7BBzRC",
        "outputId": "a7963219-812c-48be-99ec-5d652fb8cbf7"
      },
      "execution_count": null,
      "outputs": [
        {
          "output_type": "stream",
          "name": "stdout",
          "text": [
            "[5 5 4 4]\n"
          ]
        }
      ]
    },
    {
      "cell_type": "code",
      "source": [
        "print(np.argmin(C))"
      ],
      "metadata": {
        "colab": {
          "base_uri": "https://localhost:8080/"
        },
        "id": "PSSxeGEVB86A",
        "outputId": "ec330747-b87a-40c9-dad2-966077c34c92"
      },
      "execution_count": null,
      "outputs": [
        {
          "output_type": "stream",
          "name": "stdout",
          "text": [
            "5\n"
          ]
        }
      ]
    },
    {
      "cell_type": "code",
      "source": [
        "print(np.argmin(C,axis=0))"
      ],
      "metadata": {
        "colab": {
          "base_uri": "https://localhost:8080/"
        },
        "id": "z_kPLeA4B83L",
        "outputId": "e7915a27-9d30-4a67-8b54-3c1537837d2f"
      },
      "execution_count": null,
      "outputs": [
        {
          "output_type": "stream",
          "name": "stdout",
          "text": [
            "[3 1 3 0]\n"
          ]
        }
      ]
    },
    {
      "cell_type": "code",
      "source": [
        "print(np.argmin(C,axis=1))"
      ],
      "metadata": {
        "colab": {
          "base_uri": "https://localhost:8080/"
        },
        "id": "JLuaVbYcB8y_",
        "outputId": "d7788824-e192-4b4a-cf15-e3b6f7a6ee0f"
      },
      "execution_count": null,
      "outputs": [
        {
          "output_type": "stream",
          "name": "stdout",
          "text": [
            "[0 1 3 2 1 2]\n"
          ]
        }
      ]
    },
    {
      "cell_type": "markdown",
      "source": [
        "Searching"
      ],
      "metadata": {
        "id": "ipy0eYSWFb4Q"
      }
    },
    {
      "cell_type": "code",
      "source": [
        "#find the indexs where the values are even:\n",
        "a=np.array([34,56,7,17,88,91])\n",
        "print(np.where(a%2==0))"
      ],
      "metadata": {
        "colab": {
          "base_uri": "https://localhost:8080/"
        },
        "id": "8HZfC2LPB8wn",
        "outputId": "bd18e92c-6060-4fb6-f39f-ec5ef5f30a13"
      },
      "execution_count": null,
      "outputs": [
        {
          "output_type": "stream",
          "name": "stdout",
          "text": [
            "(array([0, 1, 4]),)\n"
          ]
        }
      ]
    },
    {
      "cell_type": "code",
      "source": [
        "#used only for already sorted list:\n",
        "a=np.array([6,7,8,9,10])\n",
        "x=np.searchsorted(a,10)\n",
        "print(x)\n"
      ],
      "metadata": {
        "colab": {
          "base_uri": "https://localhost:8080/"
        },
        "id": "6fld1fGcB8rs",
        "outputId": "9706fa36-8d83-4533-e78e-89f6bba78993"
      },
      "execution_count": null,
      "outputs": [
        {
          "output_type": "stream",
          "name": "stdout",
          "text": [
            "4\n"
          ]
        }
      ]
    },
    {
      "cell_type": "code",
      "source": [
        "#used only for already unsorted list:\n",
        "a=np.array([6,2,7,9,8,9,10])\n",
        "x=np.searchsorted(a,3)       #it is not appilicable for unsorted list\n",
        "print(x)"
      ],
      "metadata": {
        "colab": {
          "base_uri": "https://localhost:8080/"
        },
        "id": "xUcAIIQ1IKHW",
        "outputId": "4800974d-68c9-4833-88e0-b85f71bb63fe"
      },
      "execution_count": null,
      "outputs": [
        {
          "output_type": "stream",
          "name": "stdout",
          "text": [
            "2\n"
          ]
        }
      ]
    },
    {
      "cell_type": "code",
      "source": [
        "#find the indexs which are divisible by 6\n",
        "a=np.array([24,16,7,17,54,60])\n",
        "print(np.where(a%6==0))\n",
        "print(a)"
      ],
      "metadata": {
        "colab": {
          "base_uri": "https://localhost:8080/"
        },
        "id": "dTfY1W4SB8ok",
        "outputId": "9ee897f2-52a8-4627-a83e-e9724600ebef"
      },
      "execution_count": null,
      "outputs": [
        {
          "output_type": "stream",
          "name": "stdout",
          "text": [
            "(array([0, 4, 5]),)\n",
            "[24 16  7 17 54 60]\n"
          ]
        }
      ]
    },
    {
      "cell_type": "markdown",
      "source": [
        "Sorting\n"
      ],
      "metadata": {
        "id": "GbSXl2yOJ_PS"
      }
    },
    {
      "cell_type": "code",
      "source": [
        "#sorting array\n",
        "arr=np.array(['banana','cherry','apple'])\n",
        "print(np.sort(arr))"
      ],
      "metadata": {
        "colab": {
          "base_uri": "https://localhost:8080/"
        },
        "id": "JAnNi6jXB8jt",
        "outputId": "05e74434-087c-4ec2-fc9f-c07bbc80dadf"
      },
      "execution_count": null,
      "outputs": [
        {
          "output_type": "stream",
          "name": "stdout",
          "text": [
            "['apple' 'banana' 'cherry']\n"
          ]
        }
      ]
    },
    {
      "cell_type": "code",
      "source": [
        "arr=np.array([True,False,True])   #FALSE -0 ,TRUE-0\n",
        "print(np.sort(arr))"
      ],
      "metadata": {
        "colab": {
          "base_uri": "https://localhost:8080/"
        },
        "id": "EMVSHElEJX4x",
        "outputId": "1da224a4-63e0-49e2-be7e-766efbb4bf88"
      },
      "execution_count": null,
      "outputs": [
        {
          "output_type": "stream",
          "name": "stdout",
          "text": [
            "[False  True  True]\n"
          ]
        }
      ]
    },
    {
      "cell_type": "code",
      "source": [
        "#2d sort -sorting happens within row\n",
        "arr=np.array([[3,2,4],[5,0,1]])\n",
        "print(np.sort(arr))"
      ],
      "metadata": {
        "colab": {
          "base_uri": "https://localhost:8080/"
        },
        "id": "-4JZujPGHbo4",
        "outputId": "f9b89839-4ba7-4eef-a03e-f8970016d5d9"
      },
      "execution_count": null,
      "outputs": [
        {
          "output_type": "stream",
          "name": "stdout",
          "text": [
            "[[2 3 4]\n",
            " [0 1 5]]\n"
          ]
        }
      ]
    },
    {
      "cell_type": "markdown",
      "source": [
        "Array Filter"
      ],
      "metadata": {
        "id": "njI7pXWUJ6Ft"
      }
    },
    {
      "cell_type": "code",
      "source": [
        "#array filter\n",
        "arr=np.array([40,42,50,44,67,78])\n",
        "x=[True,False,True,False,True,True]    #filter list\n",
        "newarr=arr[x]\n",
        "print(newarr)"
      ],
      "metadata": {
        "colab": {
          "base_uri": "https://localhost:8080/"
        },
        "id": "3A22Y5uLHblO",
        "outputId": "44a5fb92-ce2e-4d25-a2e3-33d85d2cf679"
      },
      "execution_count": null,
      "outputs": [
        {
          "output_type": "stream",
          "name": "stdout",
          "text": [
            "[40 50 67 78]\n"
          ]
        }
      ]
    },
    {
      "cell_type": "code",
      "source": [
        "arr=np.array([40,42,50,44,67,78])  #filter may be list or array\n",
        "filt=np.where(arr%2==0)\n",
        "print(filt)"
      ],
      "metadata": {
        "colab": {
          "base_uri": "https://localhost:8080/"
        },
        "id": "e32G1CBZHbhv",
        "outputId": "2a8a0aff-60c3-4c7f-c516-ef2bd0662047"
      },
      "execution_count": null,
      "outputs": [
        {
          "output_type": "stream",
          "name": "stdout",
          "text": [
            "(array([0, 1, 2, 3, 5]),)\n"
          ]
        }
      ]
    },
    {
      "cell_type": "code",
      "source": [
        "names=np.array([\"Sasi\",\"Prasanna\",\"Akhila\",\"Lavanya\",\"Jaya\",\"Dharani\"])   #Zip function is used to combine two or more arrays and lists\n",
        "initals=np.array([\"P\",\"N\",\"T\",\"P\",\"T\",\"K\"])\n",
        "for i ,j in zip(initals,names):\n",
        "  print(i,\".\",j)"
      ],
      "metadata": {
        "colab": {
          "base_uri": "https://localhost:8080/"
        },
        "id": "Js61IJ8bHbcZ",
        "outputId": "eeddd277-e4de-488d-8ece-06c825af1dc4"
      },
      "execution_count": null,
      "outputs": [
        {
          "output_type": "stream",
          "name": "stdout",
          "text": [
            "P . Sasi\n",
            "N . Prasanna\n",
            "T . Akhila\n",
            "P . Lavanya\n",
            "T . Jaya\n",
            "K . Dharani\n"
          ]
        }
      ]
    },
    {
      "cell_type": "code",
      "source": [
        "names=np.array([\"Sasi\",\"Prasanna\",\"Akhila\",\"Lavanya\",\"Jaya\",\"Dharani\"])   #Zip function is used to combine two or more arrays and lists\n",
        "initals=np.array([\"P\",\"N\",\"T\",\"P\",\"T\",\"K\"])\n",
        "rollno=np.array([\"5b0\",\"5a6\",\"5c0\",\"5b1\",\"560\",\"5b2\"])\n",
        "for i,j,k in zip(initals,names,rollno):\n",
        "  print(i,\".\",j,\".\",k)"
      ],
      "metadata": {
        "colab": {
          "base_uri": "https://localhost:8080/"
        },
        "id": "jaaHW4j-PvZ5",
        "outputId": "3728cdd3-0fa1-4899-dae8-5841bf76583a"
      },
      "execution_count": null,
      "outputs": [
        {
          "output_type": "stream",
          "name": "stdout",
          "text": [
            "P . Sasi . 5b0\n",
            "N . Prasanna . 5a6\n",
            "T . Akhila . 5c0\n",
            "P . Lavanya . 5b1\n",
            "T . Jaya . 560\n",
            "K . Dharani . 5b2\n"
          ]
        }
      ]
    },
    {
      "cell_type": "code",
      "source": [
        "a1=np.array([10,20,30,40,50,60])\n",
        "a2=np.array([20,21,22,23,24,25])\n",
        "a=np.multiply(a1,a2)\n",
        "print(a)\n",
        "b=np.divide(a1,a2)\n",
        "print(b)\n",
        "c=np.mod(a1,a2)\n",
        "print(c)\n",
        "d=np.divmod(a1,a2)\n",
        "print(d)"
      ],
      "metadata": {
        "colab": {
          "base_uri": "https://localhost:8080/"
        },
        "id": "mgFa-bucQd0F",
        "outputId": "d9425ceb-b424-487b-8bfd-204a4e7f2267"
      },
      "execution_count": null,
      "outputs": [
        {
          "output_type": "stream",
          "name": "stdout",
          "text": [
            "[ 200  420  660  920 1200 1500]\n",
            "[0.5        0.95238095 1.36363636 1.73913043 2.08333333 2.4       ]\n",
            "[10 20  8 17  2 10]\n",
            "(array([0, 0, 1, 1, 2, 2]), array([10, 20,  8, 17,  2, 10]))\n"
          ]
        }
      ]
    },
    {
      "cell_type": "code",
      "source": [
        "a1=np.array([10,20,30,40,50,60])\n",
        "a2=np.array([20,21,22,23,24,25])\n",
        "a=np.multiply(a1,a2)\n",
        "print(a)"
      ],
      "metadata": {
        "colab": {
          "base_uri": "https://localhost:8080/"
        },
        "id": "T5Ut1-lXRaXg",
        "outputId": "ff4d666e-a144-4d82-b7b8-fb92c936d4f7"
      },
      "execution_count": null,
      "outputs": [
        {
          "output_type": "stream",
          "name": "stdout",
          "text": [
            "[ 200  420  660  920 1200 1500]\n"
          ]
        }
      ]
    },
    {
      "cell_type": "code",
      "source": [
        "a1=np.array([10,20,30,40,50,60])\n",
        "a2=np.array([20,21,22,23,24,25])\n",
        "b=np.divide(a1,a2)\n",
        "print(b)"
      ],
      "metadata": {
        "colab": {
          "base_uri": "https://localhost:8080/"
        },
        "id": "N-_Ivbq4PvXj",
        "outputId": "7e638d38-6cab-4b68-be97-02b931f423ef"
      },
      "execution_count": null,
      "outputs": [
        {
          "output_type": "stream",
          "name": "stdout",
          "text": [
            "[0.5        0.95238095 1.36363636 1.73913043 2.08333333 2.4       ]\n"
          ]
        }
      ]
    },
    {
      "cell_type": "code",
      "source": [
        "a1=np.array([10,20,30,40,50,60])\n",
        "a2=np.array([20,21,22,23,24,25])\n",
        "c=np.mod(a1,a2)\n",
        "print(c)"
      ],
      "metadata": {
        "colab": {
          "base_uri": "https://localhost:8080/"
        },
        "id": "dcNrLorMPvVe",
        "outputId": "64022487-41c6-4cd8-9406-27eeca7ffb54"
      },
      "execution_count": null,
      "outputs": [
        {
          "output_type": "stream",
          "name": "stdout",
          "text": [
            "[10 20  8 17  2 10]\n"
          ]
        }
      ]
    },
    {
      "cell_type": "code",
      "source": [
        "a1=np.array([10,20,30,40,50,60])\n",
        "a2=np.array([20,21,22,23,24,25])\n",
        "d=np.divmod(a1,a2)\n",
        "print(d)"
      ],
      "metadata": {
        "colab": {
          "base_uri": "https://localhost:8080/"
        },
        "id": "_8l5BR1IPvTH",
        "outputId": "8a30432a-f7c5-4ceb-a204-e70fa0ba43a9"
      },
      "execution_count": null,
      "outputs": [
        {
          "output_type": "stream",
          "name": "stdout",
          "text": [
            "(array([0, 0, 1, 1, 2, 2]), array([10, 20,  8, 17,  2, 10]))\n"
          ]
        }
      ]
    },
    {
      "cell_type": "markdown",
      "source": [
        "Logarithms"
      ],
      "metadata": {
        "id": "fdwF8ITFSYBI"
      }
    },
    {
      "cell_type": "code",
      "source": [
        "a=1.2\n",
        "print(np.log(a))   #natural log e"
      ],
      "metadata": {
        "colab": {
          "base_uri": "https://localhost:8080/"
        },
        "id": "hds7UjqyS9M6",
        "outputId": "605dedca-af7b-4681-94f3-b96b918b59fc"
      },
      "execution_count": null,
      "outputs": [
        {
          "output_type": "stream",
          "name": "stdout",
          "text": [
            "0.1823215567939546\n"
          ]
        }
      ]
    },
    {
      "cell_type": "code",
      "source": [
        "a=1.2\n",
        "print(np.log2(a))   #log base 2"
      ],
      "metadata": {
        "colab": {
          "base_uri": "https://localhost:8080/"
        },
        "id": "I6H1ndmES9JZ",
        "outputId": "456a213d-2ece-4076-b8ca-907ad8317fc8"
      },
      "execution_count": null,
      "outputs": [
        {
          "output_type": "stream",
          "name": "stdout",
          "text": [
            "0.2630344058337938\n"
          ]
        }
      ]
    },
    {
      "cell_type": "code",
      "source": [
        "a=1.2\n",
        "print(np.log10(a))    #log base 10"
      ],
      "metadata": {
        "colab": {
          "base_uri": "https://localhost:8080/"
        },
        "id": "06UCbzP7S9GC",
        "outputId": "a6d5f00f-9c1d-4915-f390-bed3025a7e4e"
      },
      "execution_count": null,
      "outputs": [
        {
          "output_type": "stream",
          "name": "stdout",
          "text": [
            "0.07918124604762482\n"
          ]
        }
      ]
    },
    {
      "cell_type": "code",
      "source": [
        "a=np.array([1,1.2,3,4])\n",
        "print(np.log(a))   #natural log e"
      ],
      "metadata": {
        "colab": {
          "base_uri": "https://localhost:8080/"
        },
        "id": "5Lj3IhHGTsnp",
        "outputId": "dc90c8ca-709d-48e3-9df3-9be13e9dbcb9"
      },
      "execution_count": null,
      "outputs": [
        {
          "output_type": "stream",
          "name": "stdout",
          "text": [
            "[0.         0.18232156 1.09861229 1.38629436]\n"
          ]
        }
      ]
    },
    {
      "cell_type": "code",
      "source": [
        "a1=np.arange(1,10)\n",
        "print(a1)\n",
        "print(np.log10(a1))    #base 10"
      ],
      "metadata": {
        "colab": {
          "base_uri": "https://localhost:8080/"
        },
        "id": "xg1NEoFDPvQm",
        "outputId": "b3c04f66-227e-4dd2-b4a6-3eca98609c50"
      },
      "execution_count": null,
      "outputs": [
        {
          "output_type": "stream",
          "name": "stdout",
          "text": [
            "[1 2 3 4 5 6 7 8 9]\n",
            "[0.         0.30103    0.47712125 0.60205999 0.69897    0.77815125\n",
            " 0.84509804 0.90308999 0.95424251]\n"
          ]
        }
      ]
    },
    {
      "cell_type": "code",
      "source": [
        "a1=np.arange(1,10)\n",
        "print(a1)\n",
        "print(np.log2(a1))    #base 2"
      ],
      "metadata": {
        "colab": {
          "base_uri": "https://localhost:8080/"
        },
        "id": "q57LvwONV6Jn",
        "outputId": "f4d1c504-afb8-4c5a-d8f6-ed1c2d498c86"
      },
      "execution_count": null,
      "outputs": [
        {
          "output_type": "stream",
          "name": "stdout",
          "text": [
            "[1 2 3 4 5 6 7 8 9]\n",
            "[0.         1.         1.5849625  2.         2.32192809 2.5849625\n",
            " 2.80735492 3.         3.169925  ]\n"
          ]
        }
      ]
    },
    {
      "cell_type": "markdown",
      "source": [
        "other mathematical operations\n"
      ],
      "metadata": {
        "id": "m0NscZ5MUs9c"
      }
    },
    {
      "cell_type": "code",
      "source": [
        "a2=np.array([5,6,7,10])\n",
        "x=np.cumprod(a2)\n",
        "print(x)"
      ],
      "metadata": {
        "colab": {
          "base_uri": "https://localhost:8080/"
        },
        "id": "pGsF7e64PvNj",
        "outputId": "feb1b3f9-cb03-4fc9-f672-eec56d088909"
      },
      "execution_count": null,
      "outputs": [
        {
          "output_type": "stream",
          "name": "stdout",
          "text": [
            "[   5   30  210 2100]\n"
          ]
        }
      ]
    },
    {
      "cell_type": "code",
      "source": [
        "a2=np.array([5,6,7,10])\n",
        "x=np.cumsum(a2)\n",
        "print(x)"
      ],
      "metadata": {
        "colab": {
          "base_uri": "https://localhost:8080/"
        },
        "id": "bMchBJ6pWKYh",
        "outputId": "a9663f3e-a4f3-4ca9-f49e-a0eff1e7cbc8"
      },
      "execution_count": null,
      "outputs": [
        {
          "output_type": "stream",
          "name": "stdout",
          "text": [
            "[ 5 11 18 28]\n"
          ]
        }
      ]
    },
    {
      "cell_type": "code",
      "source": [
        "a1=np.array([10,15,25,15])    #e2-e1\n",
        "newarr=np.diff(a2)\n",
        "print(newarr)"
      ],
      "metadata": {
        "colab": {
          "base_uri": "https://localhost:8080/"
        },
        "id": "17fw77BHPvK4",
        "outputId": "80a7de5e-962c-407e-e205-91a59680e9ac"
      },
      "execution_count": null,
      "outputs": [
        {
          "output_type": "stream",
          "name": "stdout",
          "text": [
            "[  5  10 -10]\n"
          ]
        }
      ]
    },
    {
      "cell_type": "code",
      "source": [
        "num1=455\n",
        "num2=665\n",
        "x=np.lcm(num1,num2)\n",
        "print(x)"
      ],
      "metadata": {
        "colab": {
          "base_uri": "https://localhost:8080/"
        },
        "id": "hMemFNGJPvIv",
        "outputId": "91a6f290-8f1c-4f0a-ac0e-613cadfec690"
      },
      "execution_count": null,
      "outputs": [
        {
          "output_type": "stream",
          "name": "stdout",
          "text": [
            "8645\n"
          ]
        }
      ]
    },
    {
      "cell_type": "code",
      "source": [
        "num1=455\n",
        "num2=665\n",
        "x=np.gcd(num1,num2)\n",
        "print(x)"
      ],
      "metadata": {
        "colab": {
          "base_uri": "https://localhost:8080/"
        },
        "id": "bq3MYaw2PvGL",
        "outputId": "c385fad3-6811-4cd0-8621-5a7f917d40f6"
      },
      "execution_count": null,
      "outputs": [
        {
          "output_type": "stream",
          "name": "stdout",
          "text": [
            "35\n"
          ]
        }
      ]
    },
    {
      "cell_type": "code",
      "source": [
        "a=np.array([12,15,60])\n",
        "gc=np.gcd.reduce(a)    #takes multiple inputs gives single output\n",
        "print(gc)"
      ],
      "metadata": {
        "colab": {
          "base_uri": "https://localhost:8080/"
        },
        "id": "wf3M84jpPvDS",
        "outputId": "a7c5a01d-668b-41c4-c0a9-30d3d95356f2"
      },
      "execution_count": null,
      "outputs": [
        {
          "output_type": "stream",
          "name": "stdout",
          "text": [
            "3\n"
          ]
        }
      ]
    },
    {
      "cell_type": "code",
      "source": [
        "a=np.array([12,15,60])\n",
        "lc=np.lcm.reduce(a)    #takes multiple inputs gives single output\n",
        "print(lc)"
      ],
      "metadata": {
        "colab": {
          "base_uri": "https://localhost:8080/"
        },
        "id": "PK91H1LGPvAI",
        "outputId": "fbb1254c-5ef0-458d-b6f9-90ce4c277e9c"
      },
      "execution_count": null,
      "outputs": [
        {
          "output_type": "stream",
          "name": "stdout",
          "text": [
            "60\n"
          ]
        }
      ]
    }
  ]
}